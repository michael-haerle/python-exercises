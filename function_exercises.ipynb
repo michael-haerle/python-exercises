{
 "cells": [
  {
   "cell_type": "code",
   "execution_count": 200,
   "id": "279819a5",
   "metadata": {},
   "outputs": [
    {
     "name": "stdout",
     "output_type": "stream",
     "text": [
      "Is this a 2?2\n"
     ]
    },
    {
     "data": {
      "text/plain": [
       "True"
      ]
     },
     "execution_count": 200,
     "metadata": {},
     "output_type": "execute_result"
    }
   ],
   "source": [
    "# 1. Define a function named is_two. \n",
    "# It should accept one input and return True if the passed input is \n",
    "# either the number or the string 2, False otherwise.\n",
    "\n",
    "# is_two is a function that will return a true or false output by \n",
    "# intaking a str input\n",
    "def is_two():\n",
    "#     Asking for a str input\n",
    "    num_two = input(\"Is this a 2?\")\n",
    "#     Check to see if the input is equal to the number 2\n",
    "    if(num_two == 2) or (num_two == '2'):\n",
    "#         Outputs the results of the function\n",
    "        return True\n",
    "    else:\n",
    "        return False\n",
    "    \n",
    "is_two()"
   ]
  },
  {
   "cell_type": "code",
   "execution_count": 195,
   "id": "d26625b9",
   "metadata": {},
   "outputs": [
    {
     "name": "stdout",
     "output_type": "stream",
     "text": [
      "True\n",
      "False\n"
     ]
    }
   ],
   "source": [
    "# 2. Define a function named is_vowel. \n",
    "# It should return True if the passed string is a vowel, False otherwise.\n",
    "\n",
    "# isvowel is a function to determine is the string entered is a single vowel\n",
    "# this function returns a true or false\n",
    "def is_vowel(char):\n",
    "#     Checking to see if the string entered is a single vowel\n",
    "# This is an example of doing it the long way\n",
    "    return char == 'a' or char == 'e' or char == 'i' or char == 'o' \\\n",
    "or char == 'u' or char == 'A' or char == 'E' or char == 'I' or char == 'O' or char == 'U'\n",
    "\n",
    "print(is_vowel('A'))\n",
    "print(is_vowel('b'))"
   ]
  },
  {
   "cell_type": "code",
   "execution_count": 193,
   "id": "ab92c8a5",
   "metadata": {},
   "outputs": [
    {
     "name": "stdout",
     "output_type": "stream",
     "text": [
      "False\n",
      "True\n"
     ]
    }
   ],
   "source": [
    "# 3. Define a function named is_consonant. \n",
    "# It should return True if the passed string is a consonant, \n",
    "# False otherwise. Use your is_vowel function to accomplish this.\n",
    "\n",
    "# the function isconsonant is a function that takes a single string \n",
    "# char to see if it's a consonant and returns a true or false\n",
    "def is_consonant(char):\n",
    "#     converting the string to lowercase and checking if its a consonant\n",
    "    return char.lower() in 'bcdfghjklmnpqrstvwxyz'\n",
    "\n",
    "print(is_consonant('a'))\n",
    "print(is_consonant('B'))"
   ]
  },
  {
   "cell_type": "code",
   "execution_count": 190,
   "id": "f8302842",
   "metadata": {},
   "outputs": [
    {
     "data": {
      "text/plain": [
       "'Bananas'"
      ]
     },
     "execution_count": 190,
     "metadata": {},
     "output_type": "execute_result"
    }
   ],
   "source": [
    "# 4. Define a function that accepts a string that is a word. \n",
    "# The function should capitalize the first letter of the word \n",
    "# if the word starts with a consonant.\n",
    "\n",
    "# the function uppercon takes a string and converts the first letter to \n",
    "# uppercase if that letter is a consonant\n",
    "def upper_con(c):\n",
    "    newstr = c\n",
    "#     setting the variable consonant to the consonants\n",
    "    consonant = ('bcdfghjklmnpqrstvwxyz')\n",
    "#     converting the string to lowercase so the check functions \n",
    "    for x in c.lower():\n",
    "#         specifying the char to convert\n",
    "        if x in c[0] in consonant:\n",
    "#         where the conversion actually takes place\n",
    "            newstr = newstr.capitalize()\n",
    "# this creates the output\n",
    "    return newstr\n",
    "\n",
    "upper_con('bananas')"
   ]
  },
  {
   "cell_type": "code",
   "execution_count": 188,
   "id": "679d6f7c",
   "metadata": {},
   "outputs": [
    {
     "name": "stdout",
     "output_type": "stream",
     "text": [
      "What percentage would you like to tip? .23\n",
      "How much was your bill? 78.2\n",
      "Your tip will be $17.99\n"
     ]
    }
   ],
   "source": [
    "# 5. Define a function named calculate_tip. \n",
    "# It should accept a tip percentage (a number between 0 and 1) \n",
    "# and the bill total, and return the amount to tip.\n",
    "\n",
    "# the function calculatetip takes the percentage you want tipped and the\n",
    "# bill total to calculate the tip amount\n",
    "def calculate_tip():\n",
    "#     the input that askes for teh tip percentage desired\n",
    "    tip_percentage = input(\"What percentage would you like to tip? \")\n",
    "#     converting the type from str to float\n",
    "    x = float(tip_percentage)\n",
    "#     input that asks for the bill total\n",
    "    bill = input(\"How much was your bill? \")\n",
    "#     converting the type from str to float\n",
    "    y = float(bill)\n",
    "#     creating the variable that holds the tip amount\n",
    "    tip = round((y * x), 2)\n",
    "#     this created the output for the text\n",
    "    print(f'Your tip will be ${tip}')\n",
    "\n",
    "calculate_tip()"
   ]
  },
  {
   "cell_type": "code",
   "execution_count": 187,
   "id": "3d95dd49",
   "metadata": {},
   "outputs": [
    {
     "name": "stdout",
     "output_type": "stream",
     "text": [
      "What is the original price of the item?125\n",
      "What percentge off is the item?.22\n",
      "The discounted price of the item is $97.5\n"
     ]
    }
   ],
   "source": [
    "# 6. Define a function named apply_discount. \n",
    "# It should accept a original price, and a discount percentage, \n",
    "# and return the price after the discount is applied.\n",
    "\n",
    "# the function applydiscount takes the original price and the percent\n",
    "# discount to calculate the new price for the item\n",
    "def apply_discount():\n",
    "#     input asking for the original price\n",
    "    original_price = input(\"What is the original price of the item?\")\n",
    "    #     converting the type from str to float\n",
    "    x = float(original_price)\n",
    "#     input asking for the percentage off\n",
    "    disc_percentage = input(\"What percentge off is the item?\")\n",
    "    #     converting the type from str to float\n",
    "    y = float(disc_percentage)\n",
    "#     calculating the discount and assigning a var to it\n",
    "    discount = (x * y)\n",
    "#     calculating the new price\n",
    "    new_price = round((x - discount), 2)\n",
    "#     outputing the text for the new price\n",
    "    print(f'The discounted price of the item is ${new_price}')\n",
    "    \n",
    "apply_discount()"
   ]
  },
  {
   "cell_type": "code",
   "execution_count": 186,
   "id": "8c00e2bf",
   "metadata": {},
   "outputs": [
    {
     "name": "stdout",
     "output_type": "stream",
     "text": [
      "Input a number that has a comma in it.100,000\n",
      "100000\n"
     ]
    }
   ],
   "source": [
    "# 7. Define a function named handle_commas. \n",
    "# It should accept a string that is a number that contains commas in it \n",
    "# as input, and return a number as output.\n",
    "\n",
    "# the function handlecommas takes a string input and removes the commas\n",
    "# then converts it to a int type\n",
    "def handle_commas():\n",
    "#     input that asks for a number with commas\n",
    "    num_comma = input(\"Input a number that has a comma in it.\")\n",
    "#     making sure the output from the input was str type and assigning it to x\n",
    "    x = str(num_comma)\n",
    "#     assinging comma to its own variable\n",
    "    comma = (',')\n",
    "#     checking for comma in x\n",
    "    if comma in x:\n",
    "#         removing the comma from the string\n",
    "        y = x.replace(comma, \"\")\n",
    "#     outputing the text and converting it to an int type\n",
    "    print(int(y))\n",
    "    \n",
    "handle_commas()"
   ]
  },
  {
   "cell_type": "code",
   "execution_count": 185,
   "id": "abc66b7f",
   "metadata": {},
   "outputs": [
    {
     "name": "stdout",
     "output_type": "stream",
     "text": [
      "Enter a numerical grade  :80\n",
      "The grade is B\n"
     ]
    }
   ],
   "source": [
    "# 8. Define a function named get_letter_grade. \n",
    "# It should accept a number and return the letter grade associated \n",
    "# with that number (A-F).\n",
    "\n",
    "# the function getlettergrade does several checks for different values from\n",
    "# an input value the outputs  text for the corresponding grade\n",
    "def get_letter_grade():\n",
    "#     input that asks for an interger\n",
    "    grade = int(input(\"Enter a numerical grade  :\"))\n",
    "#     a series of checks to determine the letter grade\n",
    "    if grade >= 88:\n",
    "        print(\"The grade is A\")\n",
    "    elif grade >= 80:\n",
    "        print(\"The grade is B\")\n",
    "    elif grade >= 67:\n",
    "        print(\"The grade is C\")\n",
    "    elif grade >= 60:\n",
    "        print(\"The grade is D\")\n",
    "    else:\n",
    "        print(\"The grade is F\")\n",
    "        \n",
    "get_letter_grade()"
   ]
  },
  {
   "cell_type": "code",
   "execution_count": 206,
   "id": "1de83154",
   "metadata": {},
   "outputs": [
    {
     "name": "stdout",
     "output_type": "stream",
     "text": [
      "Input words and I will remove the vowels:Aftera\n"
     ]
    },
    {
     "data": {
      "text/plain": [
       "'ftr'"
      ]
     },
     "execution_count": 206,
     "metadata": {},
     "output_type": "execute_result"
    }
   ],
   "source": [
    "# 9. Define a function named remove_vowels that accepts a string \n",
    "# and returns a string with all the vowels removed.\n",
    "\n",
    "# the function removevowles takes an input and checks to see if there are\n",
    "# vowels in the string, it will then remove those vowels\n",
    "def remove_vowels():\n",
    "#     an input asking for a string and converting to lowercase\n",
    "    string_vowel = input(\"Input words and I will remove the vowels:\").lower()\n",
    "#     assigning the vowels to a variable\n",
    "    vowels = ('aeiou')\n",
    "#     the check to see if vowels are in the string\n",
    "    for x in string_vowel.lower():\n",
    "        if x in vowels:\n",
    "#             removing the vowels\n",
    "            string_vowel = string_vowel.replace(x,\"\")\n",
    "# outputing the answer\n",
    "    return string_vowel\n",
    "\n",
    "remove_vowels()"
   ]
  },
  {
   "cell_type": "code",
   "execution_count": 183,
   "id": "af38901a",
   "metadata": {},
   "outputs": [
    {
     "name": "stdout",
     "output_type": "stream",
     "text": [
      "Input a username and I will make it valid:Name\n",
      "name\n",
      "name\n",
      "name\n",
      "name\n"
     ]
    }
   ],
   "source": [
    "# 10. Define a function named normalize_name. \n",
    "# It should accept a string and return a valid python identifier, that is:\n",
    "\n",
    "# anything that is not a valid python identifier should be removed\n",
    "# leading and trailing whitespace should be removed\n",
    "# everything should be lowercase\n",
    "# spaces should be replaced with underscores\n",
    "# for example:\n",
    "\n",
    "# Name will become name\n",
    "# First Name will become first_name\n",
    "# % Completed will become completed\n",
    "\n",
    "# the function normalizename takes an input and modifies it to meet certain conditions\n",
    "def normalize_name():\n",
    "#     the input asking for a username\n",
    "    user = input(\"Input a username and I will make it valid:\")\n",
    "#     creating a variable of valid python identifiers \n",
    "    valid_python_identifiers = ('abcdefghijklmnopqrstuvwxyz0123456789_')\n",
    "#     creating a variable for space\n",
    "    space = (' ')\n",
    "    for x in user:\n",
    "#         converting the string to lowercase and removing whitespace\n",
    "        user = user.lower().strip()\n",
    "        if x in space:\n",
    "#             converting space in the middle of the string to an underscore\n",
    "            user = user.replace(x,\"_\")\n",
    "#     checking to see if anything besides a valid python identifier \n",
    "        elif x not in valid_python_identifiers:\n",
    "#         removing the non valid python identifier\n",
    "            user = user.replace(x,\"\")\n",
    "#     outputing the result\n",
    "            print(user)\n",
    "        else:\n",
    "#             if the input met the conditions print it\n",
    "            print(user)\n",
    "            \n",
    "normalize_name()"
   ]
  },
  {
   "cell_type": "code",
   "execution_count": 182,
   "id": "4c8a72f8",
   "metadata": {},
   "outputs": [
    {
     "name": "stdout",
     "output_type": "stream",
     "text": [
      "[1 2 3]\n",
      "[ 1  3  6 10]\n"
     ]
    }
   ],
   "source": [
    "# 11. Write a function named cumulative_sum that accepts a list of numbers \n",
    "# and returns a list that is the cumulative sum of the numbers in the list.\n",
    "# cumulative_sum([1, 1, 1]) returns [1, 2, 3]\n",
    "# cumulative_sum([1, 2, 3, 4]) returns [1, 3, 6, 10]\n",
    "\n",
    "# importing numpy to use cumsum function\n",
    "import numpy as np\n",
    "\n",
    "# the function cumulativesum takes a list of intergers \n",
    "# and outputs the cumulative sum\n",
    "def cumulative_sum(x):\n",
    "#     assigning the cumsum function to use the cumulative_sum as a variable\n",
    "    answer = np.cumsum(x)\n",
    "#     outputing the answer\n",
    "    print(answer)\n",
    "    \n",
    "cumulative_sum([1, 1, 1])\n",
    "cumulative_sum([1, 2, 3, 4])    "
   ]
  },
  {
   "cell_type": "code",
   "execution_count": null,
   "id": "95bd74fa",
   "metadata": {},
   "outputs": [],
   "source": []
  },
  {
   "cell_type": "code",
   "execution_count": null,
   "id": "e5c9a813",
   "metadata": {},
   "outputs": [],
   "source": []
  }
 ],
 "metadata": {
  "kernelspec": {
   "display_name": "Python 3 (ipykernel)",
   "language": "python",
   "name": "python3"
  },
  "language_info": {
   "codemirror_mode": {
    "name": "ipython",
    "version": 3
   },
   "file_extension": ".py",
   "mimetype": "text/x-python",
   "name": "python",
   "nbconvert_exporter": "python",
   "pygments_lexer": "ipython3",
   "version": "3.9.12"
  }
 },
 "nbformat": 4,
 "nbformat_minor": 5
}
