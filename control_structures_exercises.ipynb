{
 "cells": [
  {
   "cell_type": "code",
   "execution_count": 1,
   "id": "1a605239",
   "metadata": {},
   "outputs": [
    {
     "name": "stdout",
     "output_type": "stream",
     "text": [
      "what day?Monday\n",
      "It is Monday\n"
     ]
    }
   ],
   "source": [
    "# 1.Conditional Basics\n",
    "# prompt the user for a day of the week, print out whether the day is Monday or not\n",
    "\n",
    "what_day = input(\"what day?\")\n",
    "\n",
    "if what_day == 'Monday':\n",
    "    print('It is Monday')\n",
    "else:\n",
    "    print('It is not Monday')\n",
    "\n"
   ]
  },
  {
   "cell_type": "code",
   "execution_count": 3,
   "id": "a3b72ba5",
   "metadata": {},
   "outputs": [
    {
     "name": "stdout",
     "output_type": "stream",
     "text": [
      "day of week?Sunday\n",
      "weekend\n"
     ]
    }
   ],
   "source": [
    "# prompt the user for a day of the week, print out whether the day is a weekday or a weekend\n",
    "\n",
    "day_of_week = input(\"day of week?\")\n",
    "\n",
    "if day_of_week == 'Monday':\n",
    "    print('weekday')\n",
    "elif day_of_week == 'Tuesday':\n",
    "    print('weekday')\n",
    "elif day_of_week == 'Wednesday':\n",
    "    print('weekday')\n",
    "elif day_of_week == 'Thursday':\n",
    "    print('weekday')\n",
    "elif day_of_week == 'Friday':\n",
    "    print('weekday')\n",
    "elif day_of_week == 'Saturday':\n",
    "    print('weekend')\n",
    "elif day_of_week == 'Sunday':\n",
    "    print('weekend')\n",
    "else:\n",
    "    print('Not a day of the week')\n"
   ]
  },
  {
   "cell_type": "code",
   "execution_count": 27,
   "id": "4bb12a8e",
   "metadata": {},
   "outputs": [
    {
     "name": "stdout",
     "output_type": "stream",
     "text": [
      "807.5\n"
     ]
    }
   ],
   "source": [
    "# create variables and make up values for \n",
    "    # the number of hours worked in one week\n",
    "hours_worked = 43\n",
    "    # the hourly rate \n",
    "hourly_rate = 17\n",
    "    # how much the week's paycheck will be\n",
    "# write the python code that calculates the weekly paycheck. \n",
    "# You get paid time and a half if you work more than 40 hours\n",
    "weekly_pay_ot = ((hours_worked - 40) * (hourly_rate * 1.5)) + (hours_worked * hourly_rate)\n",
    "weekly_pay = ((hours_worked - 40) * hourly_rate) + (hours_worked * hourly_rate)\n",
    "def hours_worked_fun(self):\n",
    "    if hours_worked > 40:\n",
    "        return weekly_pay_ot\n",
    "    else:\n",
    "        return weekly_pay\n",
    "print (hours_worked_fun(hours_worked))"
   ]
  },
  {
   "cell_type": "code",
   "execution_count": 32,
   "id": "8eb6e250",
   "metadata": {},
   "outputs": [
    {
     "name": "stdout",
     "output_type": "stream",
     "text": [
      "5\n",
      "6\n",
      "7\n",
      "8\n",
      "9\n",
      "10\n",
      "11\n",
      "12\n",
      "13\n",
      "14\n",
      "15\n"
     ]
    }
   ],
   "source": [
    "# 2.Loop Basics\n",
    "# While\n",
    "# Create an integer variable i with a value of 5.\n",
    "# Create a while loop that runs so long as i is less than or equal to 15\n",
    "# Each loop iteration, output the current value of i, then increment i by one.\n",
    "i = 5\n",
    "while i <= 15:\n",
    "    print(i)\n",
    "    i += 1"
   ]
  },
  {
   "cell_type": "code",
   "execution_count": 35,
   "id": "823c0bbe",
   "metadata": {},
   "outputs": [
    {
     "name": "stdout",
     "output_type": "stream",
     "text": [
      "2\n",
      "4\n",
      "6\n",
      "8\n",
      "10\n",
      "12\n",
      "14\n",
      "16\n",
      "18\n",
      "20\n",
      "22\n",
      "24\n",
      "26\n",
      "28\n",
      "30\n",
      "32\n",
      "34\n",
      "36\n",
      "38\n",
      "40\n",
      "42\n",
      "44\n",
      "46\n",
      "48\n",
      "50\n",
      "52\n",
      "54\n",
      "56\n",
      "58\n",
      "60\n",
      "62\n",
      "64\n",
      "66\n",
      "68\n",
      "70\n",
      "72\n",
      "74\n",
      "76\n",
      "78\n",
      "80\n",
      "82\n",
      "84\n",
      "86\n",
      "88\n",
      "90\n",
      "92\n",
      "94\n",
      "96\n",
      "98\n",
      "100\n"
     ]
    }
   ],
   "source": [
    "# Create a while loop that will count by 2's starting with 0 and ending at 100. \n",
    "# Follow each number with a new line.\n",
    "n = 2\n",
    "while n <= 100:\n",
    "    print(n)\n",
    "    n += 2\n"
   ]
  },
  {
   "cell_type": "code",
   "execution_count": 52,
   "id": "ef7656e1",
   "metadata": {},
   "outputs": [
    {
     "name": "stdout",
     "output_type": "stream",
     "text": [
      "100\n",
      "95\n",
      "90\n",
      "85\n",
      "80\n",
      "75\n",
      "70\n",
      "65\n",
      "60\n",
      "55\n",
      "50\n",
      "45\n",
      "40\n",
      "35\n",
      "30\n",
      "25\n",
      "20\n",
      "15\n",
      "10\n",
      "5\n",
      "0\n",
      "-5\n",
      "-10\n"
     ]
    }
   ],
   "source": [
    "# Alter your loop to count backwards by 5's from 100 to -10.\n",
    "for m in range (100, -11, -5):\n",
    "    print(m)"
   ]
  },
  {
   "cell_type": "code",
   "execution_count": 66,
   "id": "27ceb1d0",
   "metadata": {},
   "outputs": [
    {
     "name": "stdout",
     "output_type": "stream",
     "text": [
      "2\n",
      "4\n",
      "16\n",
      "256\n",
      "65536\n"
     ]
    }
   ],
   "source": [
    "# Create a while loop that starts at 2, \n",
    "# and displays the number squared on each line while the number is less than 1,000,000. \n",
    "# Output should equal:\n",
    "b = 2\n",
    "while b <= 1000000:\n",
    "    print(b)\n",
    "    b = (b**2)"
   ]
  },
  {
   "cell_type": "code",
   "execution_count": 67,
   "id": "158ed90e",
   "metadata": {},
   "outputs": [
    {
     "name": "stdout",
     "output_type": "stream",
     "text": [
      "100\n",
      "95\n",
      "90\n",
      "85\n",
      "80\n",
      "75\n",
      "70\n",
      "65\n",
      "60\n",
      "55\n",
      "50\n",
      "45\n",
      "40\n",
      "35\n",
      "30\n",
      "25\n",
      "20\n",
      "15\n",
      "10\n",
      "5\n"
     ]
    }
   ],
   "source": [
    "for a in range (100, 0, -5):\n",
    "    print(a)"
   ]
  },
  {
   "cell_type": "code",
   "execution_count": 78,
   "id": "ac8d921a",
   "metadata": {},
   "outputs": [
    {
     "name": "stdout",
     "output_type": "stream",
     "text": [
      "Pick a Number2\n",
      "2 x 1 = 2\n",
      "2 x 2 = 4\n",
      "2 x 3 = 6\n",
      "2 x 4 = 8\n",
      "2 x 5 = 10\n",
      "2 x 6 = 12\n",
      "2 x 7 = 14\n",
      "2 x 8 = 16\n",
      "2 x 9 = 18\n",
      "2 x 10 = 20\n"
     ]
    }
   ],
   "source": [
    "# For Loops\n",
    "# Write some code that prompts the user for a number, \n",
    "# then shows a multiplication table up through 10 for that number.\n",
    "p = int(input(\"Pick a Number\"))\n",
    "for r in range(1, 11):\n",
    "    print(f'{p} x {r} = {p * r}')"
   ]
  },
  {
   "cell_type": "code",
   "execution_count": 125,
   "id": "ea9b59e1",
   "metadata": {},
   "outputs": [
    {
     "name": "stdout",
     "output_type": "stream",
     "text": [
      "\n",
      "1\n",
      "22\n",
      "333\n",
      "4444\n",
      "55555\n",
      "666666\n",
      "7777777\n",
      "88888888\n",
      "999999999\n"
     ]
    }
   ],
   "source": [
    "\n",
    "for r in range(2):\n",
    "    print(r * '1')\n",
    "for r in range(2, 3):\n",
    "    print(r * '2')\n",
    "for r in range(3, 4):\n",
    "    print(r * '3')\n",
    "for r in range(4, 5):\n",
    "    print(r * '4')\n",
    "for r in range(5, 6):\n",
    "    print(r * '5')\n",
    "for r in range(6, 7):\n",
    "    print(r * '6')\n",
    "for r in range(7, 8):\n",
    "    print(r * '7')\n",
    "for r in range(8, 9):\n",
    "    print(r * '8')\n",
    "for r in range(9, 10):\n",
    "    print(r * '9')"
   ]
  },
  {
   "cell_type": "code",
   "execution_count": 136,
   "id": "db3e8e00",
   "metadata": {},
   "outputs": [
    {
     "name": "stdout",
     "output_type": "stream",
     "text": [
      "Pick an odd number3\n",
      "Here is an odd number: 1\n",
      "Here is an odd number: 3\n",
      "Here is an odd number: 5\n",
      "Here is an odd number: 7\n",
      "Here is an odd number: 9\n",
      "Here is an odd number: 11\n",
      "Here is an odd number: 13\n",
      "Here is an odd number: 15\n",
      "Here is an odd number: 17\n",
      "Here is an odd number: 19\n",
      "Here is an odd number: 21\n",
      "Here is an odd number: 23\n",
      "Here is an odd number: 25\n",
      "Here is an odd number: 27\n",
      "Here is an odd number: 29\n",
      "Here is an odd number: 31\n",
      "Here is an odd number: 33\n",
      "Here is an odd number: 35\n",
      "Here is an odd number: 37\n",
      "Here is an odd number: 39\n",
      "Here is an odd number: 41\n",
      "Here is an odd number: 43\n",
      "Here is an odd number: 45\n",
      "Here is an odd number: 47\n",
      "Here is an odd number: 49\n"
     ]
    }
   ],
   "source": [
    "# Prompt the user for an odd number between 1 and 50. \n",
    "# Use a loop and a break statement to continue prompting the user if they enter invalid input. \n",
    "# (Hint: use the isdigit method on strings to determine this). \n",
    "# Use a loop and the continue statement to output all the odd numbers between 1 and 50, except for the number the user entered.\n",
    "odd_number = input(\"Pick an odd number\")\n",
    "for odd_number in range(50):\n",
    "    if odd_number % 2 == 0:\n",
    "        continue\n",
    "    print(f'Here is an odd number: {odd_number}')"
   ]
  },
  {
   "cell_type": "code",
   "execution_count": null,
   "id": "073df184",
   "metadata": {},
   "outputs": [],
   "source": []
  }
 ],
 "metadata": {
  "kernelspec": {
   "display_name": "Python 3 (ipykernel)",
   "language": "python",
   "name": "python3"
  },
  "language_info": {
   "codemirror_mode": {
    "name": "ipython",
    "version": 3
   },
   "file_extension": ".py",
   "mimetype": "text/x-python",
   "name": "python",
   "nbconvert_exporter": "python",
   "pygments_lexer": "ipython3",
   "version": "3.9.12"
  }
 },
 "nbformat": 4,
 "nbformat_minor": 5
}
